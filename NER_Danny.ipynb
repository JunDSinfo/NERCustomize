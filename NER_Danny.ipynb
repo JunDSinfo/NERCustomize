{
 "cells": [
  {
   "cell_type": "code",
   "execution_count": 1,
   "id": "bbb4eae3",
   "metadata": {
    "scrolled": true
   },
   "outputs": [
    {
     "name": "stdout",
     "output_type": "stream",
     "text": [
      "Looking in indexes: https://pypi.org/simple, https://pypi.ngc.nvidia.com\n",
      "Collecting en-core-web-sm==3.4.0\n",
      "  Downloading https://github.com/explosion/spacy-models/releases/download/en_core_web_sm-3.4.0/en_core_web_sm-3.4.0-py3-none-any.whl (12.8 MB)\n",
      "Requirement already satisfied: spacy<3.5.0,>=3.4.0 in c:\\users\\vudod\\anaconda3\\envs\\description\\lib\\site-packages (from en-core-web-sm==3.4.0) (3.4.0)\n",
      "Requirement already satisfied: preshed<3.1.0,>=3.0.2 in c:\\users\\vudod\\anaconda3\\envs\\description\\lib\\site-packages (from spacy<3.5.0,>=3.4.0->en-core-web-sm==3.4.0) (3.0.6)\n",
      "Requirement already satisfied: cymem<2.1.0,>=2.0.2 in c:\\users\\vudod\\anaconda3\\envs\\description\\lib\\site-packages (from spacy<3.5.0,>=3.4.0->en-core-web-sm==3.4.0) (2.0.6)\n",
      "Requirement already satisfied: catalogue<2.1.0,>=2.0.6 in c:\\users\\vudod\\anaconda3\\envs\\description\\lib\\site-packages (from spacy<3.5.0,>=3.4.0->en-core-web-sm==3.4.0) (2.0.7)\n",
      "Requirement already satisfied: spacy-legacy<3.1.0,>=3.0.9 in c:\\users\\vudod\\anaconda3\\envs\\description\\lib\\site-packages (from spacy<3.5.0,>=3.4.0->en-core-web-sm==3.4.0) (3.0.9)\n",
      "Requirement already satisfied: typing-extensions<4.2.0,>=3.7.4 in c:\\users\\vudod\\anaconda3\\envs\\description\\lib\\site-packages (from spacy<3.5.0,>=3.4.0->en-core-web-sm==3.4.0) (4.1.1)\n",
      "Requirement already satisfied: spacy-loggers<2.0.0,>=1.0.0 in c:\\users\\vudod\\anaconda3\\envs\\description\\lib\\site-packages (from spacy<3.5.0,>=3.4.0->en-core-web-sm==3.4.0) (1.0.2)\n",
      "Requirement already satisfied: setuptools in c:\\users\\vudod\\anaconda3\\envs\\description\\lib\\site-packages (from spacy<3.5.0,>=3.4.0->en-core-web-sm==3.4.0) (61.2.0)\n",
      "Requirement already satisfied: murmurhash<1.1.0,>=0.28.0 in c:\\users\\vudod\\anaconda3\\envs\\description\\lib\\site-packages (from spacy<3.5.0,>=3.4.0->en-core-web-sm==3.4.0) (1.0.7)\n",
      "Requirement already satisfied: pydantic!=1.8,!=1.8.1,<1.10.0,>=1.7.4 in c:\\users\\vudod\\anaconda3\\envs\\description\\lib\\site-packages (from spacy<3.5.0,>=3.4.0->en-core-web-sm==3.4.0) (1.8.2)\n",
      "Requirement already satisfied: thinc<8.2.0,>=8.1.0 in c:\\users\\vudod\\anaconda3\\envs\\description\\lib\\site-packages (from spacy<3.5.0,>=3.4.0->en-core-web-sm==3.4.0) (8.1.0)\n",
      "Requirement already satisfied: numpy>=1.15.0 in c:\\users\\vudod\\anaconda3\\envs\\description\\lib\\site-packages (from spacy<3.5.0,>=3.4.0->en-core-web-sm==3.4.0) (1.21.6)\n",
      "Requirement already satisfied: pathy>=0.3.5 in c:\\users\\vudod\\anaconda3\\envs\\description\\lib\\site-packages (from spacy<3.5.0,>=3.4.0->en-core-web-sm==3.4.0) (0.6.1)\n",
      "Requirement already satisfied: tqdm<5.0.0,>=4.38.0 in c:\\users\\vudod\\anaconda3\\envs\\description\\lib\\site-packages (from spacy<3.5.0,>=3.4.0->en-core-web-sm==3.4.0) (4.64.0)\n",
      "Requirement already satisfied: jinja2 in c:\\users\\vudod\\anaconda3\\envs\\description\\lib\\site-packages (from spacy<3.5.0,>=3.4.0->en-core-web-sm==3.4.0) (3.1.2)\n",
      "Requirement already satisfied: requests<3.0.0,>=2.13.0 in c:\\users\\vudod\\anaconda3\\envs\\description\\lib\\site-packages (from spacy<3.5.0,>=3.4.0->en-core-web-sm==3.4.0) (2.28.0)\n",
      "Requirement already satisfied: srsly<3.0.0,>=2.4.3 in c:\\users\\vudod\\anaconda3\\envs\\description\\lib\\site-packages (from spacy<3.5.0,>=3.4.0->en-core-web-sm==3.4.0) (2.4.3)\n",
      "Requirement already satisfied: wasabi<1.1.0,>=0.9.1 in c:\\users\\vudod\\anaconda3\\envs\\description\\lib\\site-packages (from spacy<3.5.0,>=3.4.0->en-core-web-sm==3.4.0) (0.9.1)\n",
      "Requirement already satisfied: langcodes<4.0.0,>=3.2.0 in c:\\users\\vudod\\anaconda3\\envs\\description\\lib\\site-packages (from spacy<3.5.0,>=3.4.0->en-core-web-sm==3.4.0) (3.3.0)\n",
      "Requirement already satisfied: typer<0.5.0,>=0.3.0 in c:\\users\\vudod\\anaconda3\\envs\\description\\lib\\site-packages (from spacy<3.5.0,>=3.4.0->en-core-web-sm==3.4.0) (0.4.1)\n",
      "Requirement already satisfied: packaging>=20.0 in c:\\users\\vudod\\anaconda3\\envs\\description\\lib\\site-packages (from spacy<3.5.0,>=3.4.0->en-core-web-sm==3.4.0) (21.3)\n",
      "Requirement already satisfied: zipp>=0.5 in c:\\users\\vudod\\anaconda3\\envs\\description\\lib\\site-packages (from catalogue<2.1.0,>=2.0.6->spacy<3.5.0,>=3.4.0->en-core-web-sm==3.4.0) (3.8.0)\n",
      "Requirement already satisfied: pyparsing!=3.0.5,>=2.0.2 in c:\\users\\vudod\\anaconda3\\envs\\description\\lib\\site-packages (from packaging>=20.0->spacy<3.5.0,>=3.4.0->en-core-web-sm==3.4.0) (3.0.9)\n",
      "Requirement already satisfied: smart-open<6.0.0,>=5.0.0 in c:\\users\\vudod\\anaconda3\\envs\\description\\lib\\site-packages (from pathy>=0.3.5->spacy<3.5.0,>=3.4.0->en-core-web-sm==3.4.0) (5.2.1)\n",
      "Requirement already satisfied: urllib3<1.27,>=1.21.1 in c:\\users\\vudod\\anaconda3\\envs\\description\\lib\\site-packages (from requests<3.0.0,>=2.13.0->spacy<3.5.0,>=3.4.0->en-core-web-sm==3.4.0) (1.26.9)\n",
      "Requirement already satisfied: charset-normalizer~=2.0.0 in c:\\users\\vudod\\anaconda3\\envs\\description\\lib\\site-packages (from requests<3.0.0,>=2.13.0->spacy<3.5.0,>=3.4.0->en-core-web-sm==3.4.0) (2.0.12)\n",
      "Requirement already satisfied: certifi>=2017.4.17 in c:\\users\\vudod\\anaconda3\\envs\\description\\lib\\site-packages (from requests<3.0.0,>=2.13.0->spacy<3.5.0,>=3.4.0->en-core-web-sm==3.4.0) (2022.6.15)\n",
      "Requirement already satisfied: idna<4,>=2.5 in c:\\users\\vudod\\anaconda3\\envs\\description\\lib\\site-packages (from requests<3.0.0,>=2.13.0->spacy<3.5.0,>=3.4.0->en-core-web-sm==3.4.0) (3.3)\n",
      "Requirement already satisfied: blis<0.8.0,>=0.7.8 in c:\\users\\vudod\\anaconda3\\envs\\description\\lib\\site-packages (from thinc<8.2.0,>=8.1.0->spacy<3.5.0,>=3.4.0->en-core-web-sm==3.4.0) (0.7.8)\n",
      "Requirement already satisfied: colorama in c:\\users\\vudod\\anaconda3\\envs\\description\\lib\\site-packages (from tqdm<5.0.0,>=4.38.0->spacy<3.5.0,>=3.4.0->en-core-web-sm==3.4.0) (0.4.5)\n",
      "Requirement already satisfied: click<9.0.0,>=7.1.1 in c:\\users\\vudod\\anaconda3\\envs\\description\\lib\\site-packages (from typer<0.5.0,>=0.3.0->spacy<3.5.0,>=3.4.0->en-core-web-sm==3.4.0) (8.1.3)\n",
      "Requirement already satisfied: importlib-metadata in c:\\users\\vudod\\anaconda3\\envs\\description\\lib\\site-packages (from click<9.0.0,>=7.1.1->typer<0.5.0,>=0.3.0->spacy<3.5.0,>=3.4.0->en-core-web-sm==3.4.0) (4.11.4)\n",
      "Requirement already satisfied: MarkupSafe>=2.0 in c:\\users\\vudod\\anaconda3\\envs\\description\\lib\\site-packages (from jinja2->spacy<3.5.0,>=3.4.0->en-core-web-sm==3.4.0) (2.1.1)\n",
      "[+] Download and installation successful\n",
      "You can now load the package via spacy.load('en_core_web_sm')\n"
     ]
    },
    {
     "data": {
      "text/plain": [
       "['tok2vec', 'tagger', 'parser', 'attribute_ruler', 'lemmatizer', 'ner']"
      ]
     },
     "execution_count": 1,
     "metadata": {},
     "output_type": "execute_result"
    }
   ],
   "source": [
    "!python -m spacy download en_core_web_sm\n",
    "\n",
    "import spacy \n",
    "\n",
    "nlp = spacy.load(\"en_core_web_sm\")\n",
    "nlp.pipe_names"
   ]
  },
  {
   "cell_type": "code",
   "execution_count": 2,
   "id": "bb9e4873",
   "metadata": {
    "scrolled": false
   },
   "outputs": [],
   "source": [
    "doc = nlp(\"there was a flight named D16\")"
   ]
  },
  {
   "cell_type": "code",
   "execution_count": 3,
   "id": "3e44d984",
   "metadata": {},
   "outputs": [
    {
     "data": {
      "text/plain": [
       "[]"
      ]
     },
     "execution_count": 3,
     "metadata": {},
     "output_type": "execute_result"
    }
   ],
   "source": [
    "[(X, X.ent_iob_, X.ent_type_) for X in doc if X.ent_type_]\n"
   ]
  },
  {
   "cell_type": "code",
   "execution_count": 4,
   "id": "ee6d5736",
   "metadata": {},
   "outputs": [],
   "source": [
    "TRAIN_DATA = [('The F15 aircraft uses a lot of fuel', {'entities': [(4, 7, 'aircraft')]}),\n",
    " ('did you see the F16 landing?', {'entities': [(16, 19, 'aircraft')]}),\n",
    " ('how many missiles can a F35 carry', {'entities': [(24, 27, 'aircraft')]}),\n",
    " ('is the F15 outdated', {'entities': [(7, 10, 'aircraft')]}),\n",
    " ('does the US still train pilots to dog fight?',\n",
    "  {'entities': [(0, 0, 'aircraft')]}),\n",
    " ('how long does it take to train a F16 pilot',\n",
    "  {'entities': [(33, 36, 'aircraft')]}),\n",
    " ('how much does a F35 cost', {'entities': [(16, 19, 'aircraft')]}),\n",
    " ('would it be possible to steal a F15', {'entities': [(32, 35, 'aircraft')]}),\n",
    " ('who manufactures the F16', {'entities': [(21, 24, 'aircraft')]}),\n",
    " ('how many countries have bought the F35',\n",
    "  {'entities': [(35, 38, 'aircraft')]}),\n",
    " ('is the F35 a waste of money', {'entities': [(7, 10, 'aircraft')]})]"
   ]
  },
  {
   "cell_type": "code",
   "execution_count": 5,
   "id": "72d75c4e",
   "metadata": {},
   "outputs": [
    {
     "data": {
      "text/plain": [
       "[('The F15 aircraft uses a lot of fuel', {'entities': [(4, 7, 'aircraft')]}),\n",
       " ('did you see the F16 landing?', {'entities': [(16, 19, 'aircraft')]}),\n",
       " ('how many missiles can a F35 carry', {'entities': [(24, 27, 'aircraft')]}),\n",
       " ('is the F15 outdated', {'entities': [(7, 10, 'aircraft')]}),\n",
       " ('does the US still train pilots to dog fight?',\n",
       "  {'entities': [(0, 0, 'aircraft')]}),\n",
       " ('how long does it take to train a F16 pilot',\n",
       "  {'entities': [(33, 36, 'aircraft')]}),\n",
       " ('how much does a F35 cost', {'entities': [(16, 19, 'aircraft')]}),\n",
       " ('would it be possible to steal a F15', {'entities': [(32, 35, 'aircraft')]}),\n",
       " ('who manufactures the F16', {'entities': [(21, 24, 'aircraft')]}),\n",
       " ('how many countries have bought the F35',\n",
       "  {'entities': [(35, 38, 'aircraft')]}),\n",
       " ('is the F35 a waste of money', {'entities': [(7, 10, 'aircraft')]})]"
      ]
     },
     "execution_count": 5,
     "metadata": {},
     "output_type": "execute_result"
    }
   ],
   "source": [
    "TRAIN_DATA"
   ]
  },
  {
   "cell_type": "code",
   "execution_count": 6,
   "id": "128feb79",
   "metadata": {},
   "outputs": [
    {
     "name": "stderr",
     "output_type": "stream",
     "text": [
      "100%|████████████████████████████████████████████████████████████████████████████████| 11/11 [00:00<00:00, 5501.05it/s]"
     ]
    },
    {
     "name": "stdout",
     "output_type": "stream",
     "text": [
      "Skipping entity\n"
     ]
    },
    {
     "name": "stderr",
     "output_type": "stream",
     "text": [
      "\n"
     ]
    }
   ],
   "source": [
    "import pandas as pd\n",
    "import os\n",
    "from tqdm import tqdm\n",
    "import spacy\n",
    "from spacy.tokens import DocBin\n",
    "\n",
    "#nlp = spacy.blank(\"en\") # load a new spacy model\n",
    "nlp = spacy.load(\"en_core_web_sm\") # load other spacy model\n",
    "\n",
    "db = DocBin() # create a DocBin object\n",
    "\n",
    "for text, annot in tqdm(TRAIN_DATA): # data in previous format\n",
    "    doc = nlp.make_doc(text) # create doc object from text\n",
    "    ents = []\n",
    "    for start, end, label in annot[\"entities\"]: # add character indexes\n",
    "        span = doc.char_span(start, end, label=label, alignment_mode=\"contract\")\n",
    "        if span is None:\n",
    "            print(\"Skipping entity\")\n",
    "        else:\n",
    "            ents.append(span)\n",
    "    doc.ents = ents # label the text with the ents\n",
    "    db.add(doc)\n",
    "\n",
    "os.chdir(\"C:\\\\Users\\\\vudod\\\\ner\")\n"
   ]
  },
  {
   "cell_type": "code",
   "execution_count": 7,
   "id": "ae888da4",
   "metadata": {},
   "outputs": [],
   "source": [
    "db.to_disk(\"./train.spacy\") # save the docbin object"
   ]
  },
  {
   "cell_type": "code",
   "execution_count": 8,
   "id": "1e0d797f",
   "metadata": {},
   "outputs": [
    {
     "name": "stdout",
     "output_type": "stream",
     "text": [
      "[+] Auto-filled config with all values\n",
      "[+] Saved config\n",
      "config.cfg\n",
      "You can now add your data and train your pipeline:\n",
      "python -m spacy train config.cfg --paths.train ./train.spacy --paths.dev ./dev.spacy\n"
     ]
    }
   ],
   "source": [
    "!python -m spacy init fill-config base_config.cfg config.cfg\n",
    "\n"
   ]
  },
  {
   "cell_type": "code",
   "execution_count": 9,
   "id": "5a1cff6b",
   "metadata": {},
   "outputs": [
    {
     "name": "stdout",
     "output_type": "stream",
     "text": [
      "[i] Saving to output directory: output\n",
      "[i] Using CPU\n",
      "\u001b[1m\n",
      "=========================== Initializing pipeline ===========================\u001b[0m\n",
      "[+] Initialized pipeline\n",
      "\u001b[1m\n",
      "============================= Training pipeline =============================\u001b[0m\n",
      "[i] Pipeline: ['tok2vec', 'ner']\n",
      "[i] Initial learn rate: 0.001\n",
      "E    #       LOSS TOK2VEC  LOSS NER  ENTS_F  ENTS_P  ENTS_R  SCORE \n",
      "---  ------  ------------  --------  ------  ------  ------  ------\n",
      "  0       0          0.00     41.50    0.00    0.00    0.00    0.00\n",
      "200     200          1.10    476.85  100.00  100.00  100.00    1.00\n",
      "400     400          0.00      0.00  100.00  100.00  100.00    1.00\n",
      "600     600          0.00      0.00  100.00  100.00  100.00    1.00\n",
      "800     800          0.00      0.00  100.00  100.00  100.00    1.00\n",
      "1000    1000          0.00      0.00  100.00  100.00  100.00    1.00\n",
      "1200    1200          0.00      0.00  100.00  100.00  100.00    1.00\n",
      "1400    1400          0.00      0.00  100.00  100.00  100.00    1.00\n",
      "1600    1600          0.00      0.00  100.00  100.00  100.00    1.00\n",
      "1800    1800          0.00      0.00  100.00  100.00  100.00    1.00\n",
      "[+] Saved pipeline to output directory\n",
      "output\\model-last\n"
     ]
    },
    {
     "name": "stderr",
     "output_type": "stream",
     "text": [
      "[2022-07-19 17:10:07,712] [INFO] Set up nlp object from config\n",
      "[2022-07-19 17:10:07,730] [INFO] Pipeline: ['tok2vec', 'ner']\n",
      "[2022-07-19 17:10:07,732] [INFO] Created vocabulary\n",
      "[2022-07-19 17:10:07,733] [INFO] Finished initializing nlp object\n",
      "[2022-07-19 17:10:07,772] [INFO] Initialized pipeline components: ['tok2vec', 'ner']\n"
     ]
    }
   ],
   "source": [
    "!python -m spacy train config.cfg --output ./output --paths.train ./train.spacy --paths.dev ./train.spacy \n"
   ]
  },
  {
   "cell_type": "code",
   "execution_count": 10,
   "id": "047b1501",
   "metadata": {},
   "outputs": [
    {
     "data": {
      "text/html": [
       "<span class=\"tex2jax_ignore\"><div class=\"entities\" style=\"line-height: 2.5; direction: ltr\">there was a flight named \n",
       "<mark class=\"entity\" style=\"background: #ddd; padding: 0.45em 0.6em; margin: 0 0.25em; line-height: 1; border-radius: 0.35em;\">\n",
       "    D16\n",
       "    <span style=\"font-size: 0.8em; font-weight: bold; line-height: 1; border-radius: 0.35em; vertical-align: middle; margin-left: 0.5rem\">aircraft</span>\n",
       "</mark>\n",
       "</div></span>"
      ],
      "text/plain": [
       "<IPython.core.display.HTML object>"
      ]
     },
     "metadata": {},
     "output_type": "display_data"
    }
   ],
   "source": [
    "nlp1 = spacy.load(r\".\\output\\model-best\") #load the best model\n",
    "doc = nlp1(\"there was a flight named D16\") # input sample text\n",
    "\n",
    "spacy.displacy.render(doc, style=\"ent\", jupyter=True) # display in Jupyter"
   ]
  }
 ],
 "metadata": {
  "kernelspec": {
   "display_name": "Python 3 (ipykernel)",
   "language": "python",
   "name": "python3"
  },
  "language_info": {
   "codemirror_mode": {
    "name": "ipython",
    "version": 3
   },
   "file_extension": ".py",
   "mimetype": "text/x-python",
   "name": "python",
   "nbconvert_exporter": "python",
   "pygments_lexer": "ipython3",
   "version": "3.7.13"
  }
 },
 "nbformat": 4,
 "nbformat_minor": 5
}
